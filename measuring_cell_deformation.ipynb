{
 "cells": [
  {
   "cell_type": "markdown",
   "metadata": {},
   "source": [
    "# Measuring Cell Deformation"
   ]
  },
  {
   "cell_type": "markdown",
   "metadata": {},
   "source": [
    "## Installs, imports, and uploads"
   ]
  },
  {
   "cell_type": "code",
   "execution_count": 1,
   "metadata": {
    "colab": {
     "base_uri": "https://localhost:8080/"
    },
    "id": "rq8c-VXn-17x",
    "outputId": "803dfd9e-333f-42b3-aef0-71ba667a6019"
   },
   "outputs": [],
   "source": [
    "# #@title Package Installations\n",
    "\n",
    "# !pip install numpy opencv-python-headless pandas matplotlib stardist ipywidgets plotly --quiet\n",
    "\n"
   ]
  },
  {
   "cell_type": "code",
   "execution_count": 2,
   "metadata": {},
   "outputs": [],
   "source": [
    "%matplotlib widget"
   ]
  },
  {
   "cell_type": "code",
   "execution_count": 3,
   "metadata": {
    "colab": {
     "base_uri": "https://localhost:8080/",
     "height": 73
    },
    "id": "IsuN8xyT_Asc",
    "outputId": "e2fd0b4c-74ff-40b5-9a5f-b09ee38e8be6"
   },
   "outputs": [],
   "source": [
    "# #@title File Upload\n",
    "\n",
    "# from google.colab import files\n",
    "# uploaded = files.upload()\n",
    "\n",
    "# Just in case we're using this notebook from Colab"
   ]
  },
  {
   "cell_type": "code",
   "execution_count": 4,
   "metadata": {
    "id": "m-slTdFC_Sg6"
   },
   "outputs": [
    {
     "name": "stderr",
     "output_type": "stream",
     "text": [
      "2024-03-20 12:10:52.569179: I external/local_tsl/tsl/cuda/cudart_stub.cc:32] Could not find cuda drivers on your machine, GPU will not be used.\n",
      "2024-03-20 12:10:52.571758: I external/local_tsl/tsl/cuda/cudart_stub.cc:32] Could not find cuda drivers on your machine, GPU will not be used.\n",
      "2024-03-20 12:10:52.605480: I tensorflow/core/platform/cpu_feature_guard.cc:210] This TensorFlow binary is optimized to use available CPU instructions in performance-critical operations.\n",
      "To enable the following instructions: AVX2 FMA, in other operations, rebuild TensorFlow with the appropriate compiler flags.\n",
      "2024-03-20 12:10:53.604081: W tensorflow/compiler/tf2tensorrt/utils/py_utils.cc:38] TF-TRT Warning: Could not find TensorRT\n"
     ]
    }
   ],
   "source": [
    "#@title Imports\n",
    "\n",
    "import copy\n",
    "\n",
    "import cv2\n",
    "import numpy as np\n",
    "from stardist.models import StarDist2D\n",
    "from skimage import io, color\n",
    "import pandas as pd\n",
    "\n",
    "import matplotlib.pyplot as plt\n",
    "\n",
    "from scipy.spatial.distance import cdist\n",
    "\n",
    "from ipywidgets import Button, HBox, interact, IntSlider, Output\n",
    "from IPython.display import display, clear_output\n",
    "import ipywidgets as widgets\n",
    "\n",
    "from skimage.morphology import opening, disk, closing\n",
    "from skimage.filters import gaussian\n",
    "from skimage.color import label2rgb\n",
    "\n",
    "\n",
    "\n",
    "\n"
   ]
  },
  {
   "cell_type": "markdown",
   "metadata": {},
   "source": [
    "## Loading Video and Frames"
   ]
  },
  {
   "cell_type": "code",
   "execution_count": 5,
   "metadata": {
    "colab": {
     "base_uri": "https://localhost:8080/"
    },
    "id": "RhgwMXZ9_ewm",
    "outputId": "91a2c5f0-5f31-4348-cefa-199e21371bb8"
   },
   "outputs": [
    {
     "name": "stdout",
     "output_type": "stream",
     "text": [
      "Found model '2D_versatile_fluo' for 'StarDist2D'.\n",
      "Loading network weights from 'weights_best.h5'.\n",
      "Loading thresholds from 'thresholds.json'.\n",
      "Using default values: prob_thresh=0.479071, nms_thresh=0.3.\n"
     ]
    }
   ],
   "source": [
    "#@title Load Model and Data\n",
    "\n",
    "# Load the pre-trained StarDist model\n",
    "model = StarDist2D.from_pretrained('2D_versatile_fluo')\n",
    "\n",
    "# Initialize a list to store segmentation results\n",
    "segmentation_results = []\n",
    "\n",
    "# Load the video\n",
    "video_path = 'Movie 11 - Fig. S31_actual 32.avi'\n",
    "cap = cv2.VideoCapture(video_path)\n",
    "frame_count = int(cap.get(cv2.CAP_PROP_FRAME_COUNT))\n",
    "\n",
    "# Preload frames (we could load a subset if the video was very large)\n",
    "frames = []\n",
    "while True:\n",
    "    ret, frame = cap.read()\n",
    "    if not ret:\n",
    "        break\n",
    "    frame_rgb = cv2.cvtColor(frame, cv2.COLOR_BGR2RGB)\n",
    "    frames.append(frame_rgb[:, :, 1])  # Store only the green channel\n",
    "\n",
    "cap.release()"
   ]
  },
  {
   "cell_type": "code",
   "execution_count": 7,
   "metadata": {},
   "outputs": [
    {
     "data": {
      "application/vnd.jupyter.widget-view+json": {
       "model_id": "",
       "version_major": 2,
       "version_minor": 0
      },
      "text/plain": [
       "HBox(children=(Button(description='Previous', style=ButtonStyle()), Button(description='Next', style=ButtonSty…"
      ]
     },
     "metadata": {},
     "output_type": "display_data"
    },
    {
     "data": {
      "application/vnd.jupyter.widget-view+json": {
       "model_id": "",
       "version_major": 2,
       "version_minor": 0
      },
      "text/plain": [
       "Output()"
      ]
     },
     "metadata": {},
     "output_type": "display_data"
    }
   ],
   "source": [
    "#@title Rendering the Original Video\n",
    "\n",
    "current_frame_idx = 0  # Track the current frame index\n",
    "\n",
    "plot_output = widgets.Output()  # Dedicated output widget for the plot\n",
    "\n",
    "def plot_frame(frame_idx):\n",
    "    with plot_output:\n",
    "        clear_output(wait=True)  # Clear the previous plot\n",
    "        plt.figure(figsize=(8, 8))\n",
    "        plt.imshow(frames[frame_idx], cmap='Greens')\n",
    "        plt.title(f\"Frame {frame_idx}\")\n",
    "        plt.axis('off')\n",
    "        plt.show()\n",
    "\n",
    "def on_previous_clicked(b):\n",
    "    global current_frame_idx\n",
    "    if current_frame_idx > 0:\n",
    "        current_frame_idx -= 1\n",
    "        slider.value = current_frame_idx  # This triggers plot update\n",
    "\n",
    "def on_next_clicked(b):\n",
    "    global current_frame_idx\n",
    "    if current_frame_idx < len(frames) - 1:\n",
    "        current_frame_idx += 1\n",
    "        slider.value = current_frame_idx  # This triggers plot update\n",
    "\n",
    "previous_button = Button(description=\"Previous\")\n",
    "next_button = Button(description=\"Next\")\n",
    "\n",
    "previous_button.on_click(on_previous_clicked)\n",
    "next_button.on_click(on_next_clicked)\n",
    "\n",
    "slider = IntSlider(min=0, max=len(frames)-1, step=1, value=0)\n",
    "\n",
    "def on_slider_change(change):\n",
    "    global current_frame_idx\n",
    "    current_frame_idx = change['new']\n",
    "    plot_frame(current_frame_idx)  # Update plot directly for smoother slider action\n",
    "\n",
    "slider.observe(on_slider_change, names='value')\n",
    "\n",
    "controls = HBox([previous_button, next_button, slider])  # Group the controls\n",
    "\n",
    "# Display the controls and the initial plot separately\n",
    "display(controls)\n",
    "display(plot_output)  # This will hold the plot\n",
    "plot_frame(current_frame_idx)  # Initial plot\n"
   ]
  },
  {
   "cell_type": "markdown",
   "metadata": {},
   "source": [
    "## Preprocessing (denoising)"
   ]
  },
  {
   "cell_type": "code",
   "execution_count": 8,
   "metadata": {},
   "outputs": [],
   "source": [
    "\n",
    "# Apply morphological opening to each frame to remove noise\n",
    "# Disk-shaped structuring element with a radius of 3 pixels\n",
    "selem = disk(3)\n",
    "\n",
    "# We will store the processed frames in a separate list\n",
    "processed_frames = copy.deepcopy(frames)\n",
    "\n",
    "# Apply Gaussian blur to each opened frame (sigma controls the amount of blurring)\n",
    "processed_frames = [gaussian(frame, sigma=2) for frame in processed_frames]\n",
    "\n",
    "# Apply morphological opening to each frame to remove noise\n",
    "processed_frames = [opening(frame, selem) for frame in processed_frames]\n",
    "\n",
    "# processed_frames = [opening(frame, selem) for frame in processed_frames]\n",
    "# processed_frames = [closing(frame, selem) for frame in processed_frames]\n",
    "# processed_frames = [opening(frame, selem) for frame in processed_frames]\n",
    "# processed_frames = [closing(frame, selem) for frame in processed_frames]\n"
   ]
  },
  {
   "cell_type": "code",
   "execution_count": 10,
   "metadata": {},
   "outputs": [
    {
     "data": {
      "application/vnd.jupyter.widget-view+json": {
       "model_id": "6a8c5bd695954c168e2d76c175bfc25b",
       "version_major": 2,
       "version_minor": 0
      },
      "text/plain": [
       "HBox(children=(Button(description='Previous', style=ButtonStyle()), Button(description='Next', style=ButtonSty…"
      ]
     },
     "metadata": {},
     "output_type": "display_data"
    },
    {
     "data": {
      "application/vnd.jupyter.widget-view+json": {
       "model_id": "c5ffdee564994b838412918cc9712bba",
       "version_major": 2,
       "version_minor": 0
      },
      "text/plain": [
       "Output()"
      ]
     },
     "metadata": {},
     "output_type": "display_data"
    }
   ],
   "source": [
    "#@title Rendering the Processed Video\n",
    "\n",
    "current_frame_idx = 0  # Track the current frame index\n",
    "\n",
    "plot_output = widgets.Output()  # Dedicated output widget for the plot\n",
    "\n",
    "def plot_frame(frame_idx):\n",
    "    with plot_output:\n",
    "        clear_output(wait=True)  # Clear the previous plot\n",
    "        plt.figure(figsize=(8, 8))\n",
    "        plt.imshow(processed_frames[frame_idx], cmap='Greens')\n",
    "        plt.title(f\"Frame {frame_idx}\")\n",
    "        plt.axis('off')\n",
    "        plt.show()\n",
    "\n",
    "def on_previous_clicked(b):\n",
    "    global current_frame_idx\n",
    "    if current_frame_idx > 0:\n",
    "        current_frame_idx -= 1\n",
    "        slider.value = current_frame_idx  # This triggers plot update\n",
    "\n",
    "def on_next_clicked(b):\n",
    "    global current_frame_idx\n",
    "    if current_frame_idx < len(processed_frames) - 1:\n",
    "        current_frame_idx += 1\n",
    "        slider.value = current_frame_idx  # This triggers plot update\n",
    "\n",
    "previous_button = Button(description=\"Previous\")\n",
    "next_button = Button(description=\"Next\")\n",
    "\n",
    "previous_button.on_click(on_previous_clicked)\n",
    "next_button.on_click(on_next_clicked)\n",
    "\n",
    "slider = IntSlider(min=0, max=len(processed_frames)-1, step=1, value=0)\n",
    "\n",
    "def on_slider_change(change):\n",
    "    global current_frame_idx\n",
    "    current_frame_idx = change['new']\n",
    "    plot_frame(current_frame_idx)  # Update plot directly for smoother slider action\n",
    "\n",
    "slider.observe(on_slider_change, names='value')\n",
    "\n",
    "controls = HBox([previous_button, next_button, slider])  # Group the controls\n",
    "\n",
    "# Display the controls and the initial plot separately\n",
    "display(controls)\n",
    "display(plot_output)  # This will hold the plot\n",
    "plot_frame(current_frame_idx)  # Initial plot\n"
   ]
  },
  {
   "cell_type": "markdown",
   "metadata": {},
   "source": [
    "## Instance Segmentation"
   ]
  },
  {
   "cell_type": "code",
   "execution_count": 11,
   "metadata": {},
   "outputs": [
    {
     "name": "stderr",
     "output_type": "stream",
     "text": [
      "2024-03-20 12:15:39.638179: W external/local_tsl/tsl/framework/cpu_allocator_impl.cc:83] Allocation of 134217728 exceeds 10% of free system memory.\n",
      "2024-03-20 12:15:39.799496: W external/local_tsl/tsl/framework/cpu_allocator_impl.cc:83] Allocation of 134217728 exceeds 10% of free system memory.\n",
      "2024-03-20 12:15:40.183605: W external/local_tsl/tsl/framework/cpu_allocator_impl.cc:83] Allocation of 67108864 exceeds 10% of free system memory.\n",
      "2024-03-20 12:15:40.265922: W external/local_tsl/tsl/framework/cpu_allocator_impl.cc:83] Allocation of 134217728 exceeds 10% of free system memory.\n",
      "2024-03-20 12:15:42.499210: W external/local_tsl/tsl/framework/cpu_allocator_impl.cc:83] Allocation of 134217728 exceeds 10% of free system memory.\n"
     ]
    }
   ],
   "source": [
    "\n",
    "# Perform segmentation on each opened frame\n",
    "segmentation_labels = [model.predict_instances(frame)[0] for frame in processed_frames]\n"
   ]
  },
  {
   "cell_type": "code",
   "execution_count": 12,
   "metadata": {},
   "outputs": [
    {
     "data": {
      "application/vnd.jupyter.widget-view+json": {
       "model_id": "b3f532162e6c4a1e8a0224b77fef2467",
       "version_major": 2,
       "version_minor": 0
      },
      "text/plain": [
       "HBox(children=(Button(description='Previous', style=ButtonStyle()), Button(description='Next', style=ButtonSty…"
      ]
     },
     "metadata": {},
     "output_type": "display_data"
    },
    {
     "data": {
      "application/vnd.jupyter.widget-view+json": {
       "model_id": "87ccfbc8561742bd87de792016b3d705",
       "version_major": 2,
       "version_minor": 0
      },
      "text/plain": [
       "Output()"
      ]
     },
     "metadata": {},
     "output_type": "display_data"
    }
   ],
   "source": [
    "#@title Rendering the Segmented Video\n",
    "\n",
    "segmentation_output = Output()  # Dedicated output widget for segmentation plots\n",
    "\n",
    "def plot_segmentation(frame_idx):\n",
    "    with segmentation_output:\n",
    "        clear_output(wait=True)\n",
    "        label_overlay = label2rgb(segmentation_labels[frame_idx], image=processed_frames[frame_idx], bg_label=0, alpha=0.4)\n",
    "        \n",
    "        plt.figure(figsize=(10, 10))\n",
    "        plt.imshow(label_overlay)\n",
    "        plt.title(f\"Segmented Frame {frame_idx} (with Gaussian Blur)\")\n",
    "        plt.axis('off')\n",
    "        plt.show()\n",
    "\n",
    "def on_previous_clicked(b):\n",
    "    global current_frame_idx\n",
    "    if current_frame_idx > 0:\n",
    "        current_frame_idx -= 1\n",
    "        slider.value = current_frame_idx  # This triggers plot update\n",
    "\n",
    "def on_next_clicked(b):\n",
    "    global current_frame_idx\n",
    "    if current_frame_idx < len(processed_frames) - 1:\n",
    "        current_frame_idx += 1\n",
    "        slider.value = current_frame_idx  # This triggers plot update\n",
    "\n",
    "previous_button = Button(description=\"Previous\")\n",
    "next_button = Button(description=\"Next\")\n",
    "\n",
    "previous_button.on_click(on_previous_clicked)\n",
    "next_button.on_click(on_next_clicked)\n",
    "\n",
    "slider = IntSlider(min=0, max=len(processed_frames)-1, step=1, value=0)\n",
    "\n",
    "def on_slider_change(change):\n",
    "    global current_frame_idx\n",
    "    current_frame_idx = change['new']\n",
    "    plot_segmentation(current_frame_idx)  # Directly update the plot for segmentation results\n",
    "\n",
    "slider.observe(on_slider_change, names='value')\n",
    "\n",
    "controls = HBox([previous_button, next_button, slider])\n",
    "\n",
    "# Display the controls and the initial segmentation plot separately\n",
    "display(controls)\n",
    "display(segmentation_output)  # This will hold the segmentation plot\n",
    "plot_segmentation(current_frame_idx)  # Initial plot\n"
   ]
  },
  {
   "cell_type": "code",
   "execution_count": 11,
   "metadata": {},
   "outputs": [],
   "source": [
    "%matplotlib notebook\n"
   ]
  },
  {
   "cell_type": "code",
   "execution_count": null,
   "metadata": {},
   "outputs": [],
   "source": []
  },
  {
   "cell_type": "code",
   "execution_count": 14,
   "metadata": {},
   "outputs": [
    {
     "name": "stdout",
     "output_type": "stream",
     "text": [
      "usage: jupyter [-h] [--version] [--config-dir] [--data-dir] [--runtime-dir]\n",
      "               [--paths] [--json] [--debug]\n",
      "               [subcommand]\n",
      "\n",
      "Jupyter: Interactive Computing\n",
      "\n",
      "positional arguments:\n",
      "  subcommand     the subcommand to launch\n",
      "\n",
      "options:\n",
      "  -h, --help     show this help message and exit\n",
      "  --version      show the versions of core jupyter packages and exit\n",
      "  --config-dir   show Jupyter config dir\n",
      "  --data-dir     show Jupyter data dir\n",
      "  --runtime-dir  show Jupyter runtime dir\n",
      "  --paths        show all Jupyter paths. Add --json for machine-readable\n",
      "                 format.\n",
      "  --json         output paths as machine-readable json\n",
      "  --debug        output debug information about paths\n",
      "\n",
      "Available subcommands: dejavu events execute kernel kernelspec lab\n",
      "labextension labhub migrate nbconvert notebook run server troubleshoot trust\n",
      "\n",
      "Jupyter command `jupyter-nbextension` not found.\n"
     ]
    }
   ],
   "source": [
    "!jupyter nbextension enable --py widgetsnbextension --sys-prefix"
   ]
  },
  {
   "cell_type": "code",
   "execution_count": 12,
   "metadata": {},
   "outputs": [
    {
     "data": {
      "application/vnd.jupyter.widget-view+json": {
       "model_id": "0311265370d44d448b47ad7f5ff4856f",
       "version_major": 2,
       "version_minor": 0
      },
      "text/plain": [
       "HBox(children=(Button(description='Previous', style=ButtonStyle()), Button(description='Next', style=ButtonSty…"
      ]
     },
     "metadata": {},
     "output_type": "display_data"
    },
    {
     "data": {
      "application/vnd.jupyter.widget-view+json": {
       "model_id": "557e6134d4f2431da77af64a99a684da",
       "version_major": 2,
       "version_minor": 0
      },
      "text/plain": [
       "Output()"
      ]
     },
     "metadata": {},
     "output_type": "display_data"
    }
   ],
   "source": [
    "import numpy as np\n",
    "import matplotlib.pyplot as plt\n",
    "from ipywidgets import Button, HBox, IntSlider, Output, VBox\n",
    "from IPython.display import display, clear_output\n",
    "import ipywidgets as widgets\n",
    "\n",
    "\n",
    "segmentation_output = Output()  # Dedicated output widget for segmentation plots\n",
    "\n",
    "def onclick(event, frame_idx):\n",
    "    # Check if click was inside the axes\n",
    "    if event.inaxes is not None:\n",
    "        x, y = int(event.xdata), int(event.ydata)\n",
    "        label = segmentation_labels[frame_idx][y, x]\n",
    "        print(f\"Clicked on label: {label}\")\n",
    "\n",
    "def plot_segmentation(frame_idx):\n",
    "    with segmentation_output:\n",
    "        clear_output(wait=True)\n",
    "        fig, ax = plt.subplots(figsize=(10, 6))\n",
    "        label_overlay = label2rgb(segmentation_labels[frame_idx], image=processed_frames[frame_idx], bg_label=0, alpha=0.4)\n",
    "        \n",
    "        ax.imshow(label_overlay)\n",
    "        ax.set_title(f\"Segmented Frame {frame_idx} (Click on an object to identify)\")\n",
    "        ax.axis('off')\n",
    "        \n",
    "        # Connect the click event\n",
    "        cid = fig.canvas.mpl_connect('button_press_event', lambda event: onclick(event, frame_idx))\n",
    "        \n",
    "        plt.show()\n",
    "\n",
    "\n",
    "def on_previous_clicked(b):\n",
    "    global current_frame_idx\n",
    "    if current_frame_idx > 0:\n",
    "        current_frame_idx -= 1\n",
    "        slider.value = current_frame_idx  # This triggers plot update\n",
    "\n",
    "def on_next_clicked(b):\n",
    "    global current_frame_idx\n",
    "    if current_frame_idx < len(processed_frames) - 1:\n",
    "        current_frame_idx += 1\n",
    "        slider.value = current_frame_idx  # This triggers plot update\n",
    "\n",
    "previous_button = Button(description=\"Previous\")\n",
    "next_button = Button(description=\"Next\")\n",
    "\n",
    "previous_button.on_click(on_previous_clicked)\n",
    "next_button.on_click(on_next_clicked)\n",
    "\n",
    "slider = IntSlider(min=0, max=len(processed_frames)-1, step=1, value=0)\n",
    "\n",
    "def on_slider_change(change):\n",
    "    global current_frame_idx\n",
    "    current_frame_idx = change['new']\n",
    "    plot_segmentation(current_frame_idx)  # Directly update the plot for segmentation results\n",
    "\n",
    "slider.observe(on_slider_change, names='value')\n",
    "\n",
    "controls = HBox([previous_button, next_button, slider])\n",
    "\n",
    "# Display the controls and the initial segmentation plot separately\n",
    "display(controls)\n",
    "display(segmentation_output)  # This will hold the segmentation plot\n",
    "plot_segmentation(current_frame_idx)  # Initial plot\n"
   ]
  },
  {
   "cell_type": "code",
   "execution_count": 13,
   "metadata": {},
   "outputs": [
    {
     "data": {
      "application/vnd.jupyter.widget-view+json": {
       "model_id": "86c07545c35b47ac98870e4a0376050e",
       "version_major": 2,
       "version_minor": 0
      },
      "text/plain": [
       "HBox(children=(Button(description='Previous', style=ButtonStyle()), Button(description='Next', style=ButtonSty…"
      ]
     },
     "metadata": {},
     "output_type": "display_data"
    },
    {
     "data": {
      "application/vnd.jupyter.widget-view+json": {
       "model_id": "06c555ee83cd44bfb0a956b804347db7",
       "version_major": 2,
       "version_minor": 0
      },
      "text/plain": [
       "Output()"
      ]
     },
     "metadata": {},
     "output_type": "display_data"
    }
   ],
   "source": [
    "from skimage.measure import regionprops\n",
    "import matplotlib.pyplot as plt\n",
    "from ipywidgets import Button, HBox, IntSlider, Output, VBox\n",
    "from IPython.display import display, clear_output\n",
    "import ipywidgets as widgets\n",
    "\n",
    "# Assuming 'segmentation_labels' and 'processed_frames' are defined\n",
    "\n",
    "segmentation_output = Output()\n",
    "\n",
    "def plot_segmentation_with_labels(frame_idx):\n",
    "    with segmentation_output:\n",
    "        clear_output(wait=True)\n",
    "        fig, ax = plt.subplots(figsize=(10, 6))\n",
    "        label_overlay = label2rgb(segmentation_labels[frame_idx], image=processed_frames[frame_idx], bg_label=0, alpha=0.4)\n",
    "        \n",
    "        ax.imshow(label_overlay)\n",
    "        ax.set_title(f\"Segmented Frame {frame_idx}\")\n",
    "        ax.axis('off')\n",
    "        \n",
    "        # Iterate over all labeled regions\n",
    "        for region in regionprops(segmentation_labels[frame_idx]):\n",
    "            # Draw rectangle around segmented coins\n",
    "            minr, minc, maxr, maxc = region.bbox\n",
    "            bbox_center = (minc + maxc) / 2, (minr + maxr) / 2\n",
    "            ax.text(bbox_center[0], bbox_center[1], str(region.label), color='red', fontsize=8, ha='center', va='center')\n",
    "        \n",
    "        plt.show()\n",
    "\n",
    "def on_previous_clicked(b):\n",
    "    global current_frame_idx\n",
    "    if current_frame_idx > 0:\n",
    "        current_frame_idx -= 1\n",
    "        slider.value = current_frame_idx  # This triggers plot update\n",
    "\n",
    "def on_next_clicked(b):\n",
    "    global current_frame_idx\n",
    "    if current_frame_idx < len(processed_frames) - 1:\n",
    "        current_frame_idx += 1\n",
    "        slider.value = current_frame_idx  # This triggers plot update\n",
    "\n",
    "previous_button = Button(description=\"Previous\")\n",
    "next_button = Button(description=\"Next\")\n",
    "\n",
    "previous_button.on_click(on_previous_clicked)\n",
    "next_button.on_click(on_next_clicked)\n",
    "\n",
    "slider = IntSlider(min=0, max=len(processed_frames)-1, step=1, value=0)\n",
    "\n",
    "def on_slider_change(change):\n",
    "    global current_frame_idx\n",
    "    current_frame_idx = change['new']\n",
    "    plot_segmentation(current_frame_idx)  # Directly update the plot for segmentation results\n",
    "\n",
    "slider.observe(on_slider_change, names='value')\n",
    "\n",
    "controls = HBox([previous_button, next_button, slider])\n",
    "\n",
    "# Display the controls and the initial segmentation plot separately\n",
    "display(controls)\n",
    "display(segmentation_output)  # This will hold the segmentation plot\n",
    "plot_segmentation(current_frame_idx)  # Initial plot"
   ]
  },
  {
   "cell_type": "markdown",
   "metadata": {},
   "source": [
    "## Object Tracking"
   ]
  },
  {
   "cell_type": "code",
   "execution_count": null,
   "metadata": {
    "id": "g8hjFSnOCFgI"
   },
   "outputs": [],
   "source": [
    "#@title Object Tracking\n",
    "\n",
    "# Function to calculate the centroids of labeled objects\n",
    "def calculate_centroids(labels):\n",
    "    unique_labels = np.unique(labels)\n",
    "    centroids = []\n",
    "    for label in unique_labels:\n",
    "        if label == 0:\n",
    "            continue  # Skip background\n",
    "        ys, xs = np.where(labels == label)\n",
    "        centroids.append((np.mean(xs), np.mean(ys)))\n",
    "    return np.array(centroids)\n",
    "\n",
    "# Initialize DataFrame to store results\n",
    "df = pd.DataFrame(columns=['Frame', 'Label', 'Area', 'Centroid_X', 'Centroid_Y'])\n",
    "\n",
    "for i, labels in enumerate(segmentation_results):\n",
    "    centroids = calculate_centroids(labels)\n",
    "    previous_centroid = calculate_centroids(segmentation_results[i-1])[selected_label-1] if i > 0 else calculate_centroids(first_frame_segmentation)[selected_label-1]\n",
    "    distances = cdist([previous_centroid], centroids)\n",
    "    selected_label = np.argmin(distances) + 1  # +1 to adjust for background being skipped\n",
    "    selected_area = np.sum(labels == selected_label)\n",
    "    selected_centroid = centroids[selected_label-1]\n",
    "    df = df.append({'Frame': i, 'Label': selected_label, 'Area': selected_area, 'Centroid_X': selected_centroid[0], 'Centroid_Y': selected_centroid[1]}, ignore_index=True)\n"
   ]
  }
 ],
 "metadata": {
  "colab": {
   "provenance": []
  },
  "kernelspec": {
   "display_name": "oncostreams",
   "language": "python",
   "name": "oncostreams"
  },
  "language_info": {
   "codemirror_mode": {
    "name": "ipython",
    "version": 3
   },
   "file_extension": ".py",
   "mimetype": "text/x-python",
   "name": "python",
   "nbconvert_exporter": "python",
   "pygments_lexer": "ipython3",
   "version": "3.10.12"
  }
 },
 "nbformat": 4,
 "nbformat_minor": 4
}
